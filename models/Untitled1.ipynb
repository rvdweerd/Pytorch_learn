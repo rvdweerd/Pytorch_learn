{
 "cells": [
  {
   "cell_type": "code",
   "execution_count": 2,
   "metadata": {},
   "outputs": [],
   "source": [
    "import numpy as  np"
   ]
  },
  {
   "cell_type": "code",
   "execution_count": 3,
   "metadata": {},
   "outputs": [],
   "source": [
    "import torch"
   ]
  },
  {
   "cell_type": "code",
   "execution_count": 4,
   "metadata": {},
   "outputs": [
    {
     "data": {
      "text/plain": [
       "'1.6.0'"
      ]
     },
     "execution_count": 4,
     "metadata": {},
     "output_type": "execute_result"
    }
   ],
   "source": [
    "torch.__version__"
   ]
  },
  {
   "cell_type": "code",
   "execution_count": 5,
   "metadata": {},
   "outputs": [
    {
     "data": {
      "text/plain": [
       "False"
      ]
     },
     "execution_count": 5,
     "metadata": {},
     "output_type": "execute_result"
    }
   ],
   "source": [
    "torch.cuda.is_available()"
   ]
  },
  {
   "cell_type": "code",
   "execution_count": 67,
   "metadata": {},
   "outputs": [
    {
     "name": "stdout",
     "output_type": "stream",
     "text": [
      "(2, 3, 2, 2)\n",
      "[[[[  -3    0]\n",
      "   [   0    5]]\n",
      "\n",
      "  [[ -15   -5]\n",
      "   [   5   10]]\n",
      "\n",
      "  [[ 103  200]\n",
      "   [-150  -90]]]\n",
      "\n",
      "\n",
      " [[[   3    0]\n",
      "   [   0   -3]]\n",
      "\n",
      "  [[  10    5]\n",
      "   [  -5  -10]]\n",
      "\n",
      "  [[ -80 -180]\n",
      "   [ 150   90]]]]\n"
     ]
    }
   ],
   "source": [
    "A=np.array([[[[-3,0],[0,5]],[[-15,-5],[5,10]],[[103,200],[-150,-90]]],\n",
    "            [[[3,0],[0,-3]],[[10,5],[-5,-10]],[[-80,-180],[150,90]]],\n",
    "           ])\n",
    "print(A.shape)\n",
    "print(A)"
   ]
  },
  {
   "cell_type": "code",
   "execution_count": 69,
   "metadata": {},
   "outputs": [
    {
     "data": {
      "text/plain": [
       "array([[[[ 0.98      ,  1.        ],\n",
       "         [ 1.        ,  1.03333333]],\n",
       "\n",
       "        [[ 0.9       ,  0.96666667],\n",
       "         [ 1.03333333,  1.06666667]],\n",
       "\n",
       "        [[ 1.68666667,  2.33333333],\n",
       "         [ 0.        ,  0.4       ]]],\n",
       "\n",
       "\n",
       "       [[[ 1.02      ,  1.        ],\n",
       "         [ 1.        ,  0.98      ]],\n",
       "\n",
       "        [[ 1.06666667,  1.03333333],\n",
       "         [ 0.96666667,  0.93333333]],\n",
       "\n",
       "        [[ 0.46666667, -0.2       ],\n",
       "         [ 2.        ,  1.6       ]]]])"
      ]
     },
     "execution_count": 69,
     "metadata": {},
     "output_type": "execute_result"
    }
   ],
   "source": [
    "A/150+1\n"
   ]
  },
  {
   "cell_type": "code",
   "execution_count": 87,
   "metadata": {},
   "outputs": [
    {
     "name": "stdout",
     "output_type": "stream",
     "text": [
      "(2, 2, 2, 3)\n",
      "[[[[  -3.  -15.  103.]\n",
      "   [   0.   -5.  200.]]\n",
      "\n",
      "  [[   0.    5. -150.]\n",
      "   [   5.   10.  -90.]]]\n",
      "\n",
      "\n",
      " [[[   3.   10.  -80.]\n",
      "   [   0.    5. -180.]]\n",
      "\n",
      "  [[   0.   -5.  150.]\n",
      "   [  -3.  -10.   90.]]]]\n"
     ]
    }
   ],
   "source": [
    "B=A.transpose(0,2,3,1).astype(np.float32)\n",
    "print(B.shape)\n",
    "print(B)"
   ]
  },
  {
   "cell_type": "code",
   "execution_count": 88,
   "metadata": {},
   "outputs": [
    {
     "data": {
      "text/plain": [
       "array([[[9.00000e+00, 1.56250e+02, 8.37225e+03],\n",
       "        [0.00000e+00, 2.50000e+01, 3.61000e+04]],\n",
       "\n",
       "       [[0.00000e+00, 2.50000e+01, 2.25000e+04],\n",
       "        [1.60000e+01, 1.00000e+02, 8.10000e+03]]], dtype=float32)"
      ]
     },
     "execution_count": 88,
     "metadata": {},
     "output_type": "execute_result"
    }
   ],
   "source": [
    "var=np.var(B,axis=0)\n",
    "var"
   ]
  },
  {
   "cell_type": "code",
   "execution_count": 89,
   "metadata": {},
   "outputs": [],
   "source": [
    "B/=[2,3,4]"
   ]
  },
  {
   "cell_type": "code",
   "execution_count": 75,
   "metadata": {},
   "outputs": [
    {
     "data": {
      "text/plain": [
       "array([[[[  -3. ,  -12.5,   91.5],\n",
       "         [   0. ,   -5. ,  190. ]],\n",
       "\n",
       "        [[   0. ,    5. , -150. ],\n",
       "         [   4. ,   10. ,  -90. ]]],\n",
       "\n",
       "\n",
       "       [[[   3. ,   12.5,  -91.5],\n",
       "         [   0. ,    5. , -190. ]],\n",
       "\n",
       "        [[   0. ,   -5. ,  150. ],\n",
       "         [  -4. ,  -10. ,   90. ]]]], dtype=float32)"
      ]
     },
     "execution_count": 75,
     "metadata": {},
     "output_type": "execute_result"
    }
   ],
   "source": [
    "B-=mean\n",
    "B"
   ]
  },
  {
   "cell_type": "code",
   "execution_count": 42,
   "metadata": {},
   "outputs": [
    {
     "data": {
      "text/plain": [
       "array([[[[  -3. ,    0. ],\n",
       "         [   0. ,    4. ]],\n",
       "\n",
       "        [[ -12.5,   -5. ],\n",
       "         [   5. ,   10. ]],\n",
       "\n",
       "        [[  91.5,  190. ],\n",
       "         [-150. ,  -90. ]]],\n",
       "\n",
       "\n",
       "       [[[   3. ,    0. ],\n",
       "         [   0. ,   -4. ]],\n",
       "\n",
       "        [[  12.5,    5. ],\n",
       "         [  -5. ,  -10. ]],\n",
       "\n",
       "        [[ -91.5, -190. ],\n",
       "         [ 150. ,   90. ]]]], dtype=float32)"
      ]
     },
     "execution_count": 42,
     "metadata": {},
     "output_type": "execute_result"
    }
   ],
   "source": [
    "C=B.transpose(0,3,1,2)\n",
    "C"
   ]
  },
  {
   "cell_type": "code",
   "execution_count": 70,
   "metadata": {},
   "outputs": [
    {
     "data": {
      "text/plain": [
       "array([[-10,   2,   3],\n",
       "       [  6,   2,   1]])"
      ]
     },
     "execution_count": 70,
     "metadata": {},
     "output_type": "execute_result"
    }
   ],
   "source": [
    "t=np.array([[-10,2,3],[6,2,1]])\n",
    "t"
   ]
  },
  {
   "cell_type": "code",
   "execution_count": 71,
   "metadata": {},
   "outputs": [
    {
     "data": {
      "text/plain": [
       "array([10,  2,  3])"
      ]
     },
     "execution_count": 71,
     "metadata": {},
     "output_type": "execute_result"
    }
   ],
   "source": [
    "maxim=np.max(np.abs(t),axis=0)\n",
    "maxim"
   ]
  },
  {
   "cell_type": "code",
   "execution_count": 65,
   "metadata": {},
   "outputs": [],
   "source": [
    "p=t/_"
   ]
  },
  {
   "cell_type": "code",
   "execution_count": 66,
   "metadata": {},
   "outputs": [
    {
     "data": {
      "text/plain": [
       "array([[-1.        ,  1.        ,  1.        ],\n",
       "       [ 0.6       ,  1.        ,  0.33333333]])"
      ]
     },
     "execution_count": 66,
     "metadata": {},
     "output_type": "execute_result"
    }
   ],
   "source": [
    "p"
   ]
  },
  {
   "cell_type": "code",
   "execution_count": 55,
   "metadata": {},
   "outputs": [
    {
     "data": {
      "text/plain": [
       "(2, 3)"
      ]
     },
     "execution_count": 55,
     "metadata": {},
     "output_type": "execute_result"
    }
   ],
   "source": [
    "p.shape"
   ]
  },
  {
   "cell_type": "code",
   "execution_count": 56,
   "metadata": {},
   "outputs": [
    {
     "data": {
      "text/plain": [
       "(2, 3)"
      ]
     },
     "execution_count": 56,
     "metadata": {},
     "output_type": "execute_result"
    }
   ],
   "source": [
    "t.shape"
   ]
  },
  {
   "cell_type": "code",
   "execution_count": null,
   "metadata": {},
   "outputs": [],
   "source": []
  }
 ],
 "metadata": {
  "kernelspec": {
   "display_name": "Python 3",
   "language": "python",
   "name": "python3"
  },
  "language_info": {
   "codemirror_mode": {
    "name": "ipython",
    "version": 3
   },
   "file_extension": ".py",
   "mimetype": "text/x-python",
   "name": "python",
   "nbconvert_exporter": "python",
   "pygments_lexer": "ipython3",
   "version": "3.8.6"
  }
 },
 "nbformat": 4,
 "nbformat_minor": 4
}
